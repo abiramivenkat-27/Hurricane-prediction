{
 "cells": [
  {
   "cell_type": "code",
   "execution_count": 10,
   "id": "9d1096d7-7284-48bc-8955-5e380bd76c11",
   "metadata": {},
   "outputs": [],
   "source": [
    "import pandas as pd\n",
    "import numpy as np\n",
    "import matplotlib.pyplot as plt\n",
    "import seaborn as sns"
   ]
  },
  {
   "cell_type": "code",
   "execution_count": 11,
   "id": "6d74f69c-f542-4661-aa4b-50a738f63194",
   "metadata": {},
   "outputs": [
    {
     "name": "stdout",
     "output_type": "stream",
     "text": [
      "         ID                 Name      Date  Time Event Status Latitude  \\\n",
      "0  AL011851              UNNAMED  18510625     0           HU    28.0N   \n",
      "1  AL011851              UNNAMED  18510625   600           HU    28.0N   \n",
      "2  AL011851              UNNAMED  18510625  1200           HU    28.0N   \n",
      "3  AL011851              UNNAMED  18510625  1800           HU    28.1N   \n",
      "4  AL011851              UNNAMED  18510625  2100     L     HU    28.2N   \n",
      "\n",
      "  Longitude  Maximum Wind  Minimum Pressure  ...  Low Wind SW  Low Wind NW  \\\n",
      "0     94.8W            80              -999  ...         -999         -999   \n",
      "1     95.4W            80              -999  ...         -999         -999   \n",
      "2     96.0W            80              -999  ...         -999         -999   \n",
      "3     96.5W            80              -999  ...         -999         -999   \n",
      "4     96.8W            80              -999  ...         -999         -999   \n",
      "\n",
      "   Moderate Wind NE  Moderate Wind SE  Moderate Wind SW  Moderate Wind NW  \\\n",
      "0              -999              -999              -999              -999   \n",
      "1              -999              -999              -999              -999   \n",
      "2              -999              -999              -999              -999   \n",
      "3              -999              -999              -999              -999   \n",
      "4              -999              -999              -999              -999   \n",
      "\n",
      "   High Wind NE  High Wind SE  High Wind SW  High Wind NW  \n",
      "0          -999          -999          -999          -999  \n",
      "1          -999          -999          -999          -999  \n",
      "2          -999          -999          -999          -999  \n",
      "3          -999          -999          -999          -999  \n",
      "4          -999          -999          -999          -999  \n",
      "\n",
      "[5 rows x 22 columns]\n"
     ]
    }
   ],
   "source": [
    "df = pd.read_csv('hurricane_data.csv')\n",
    "print(df.head())"
   ]
  },
  {
   "cell_type": "code",
   "execution_count": 12,
   "id": "f56448b8-2059-41ac-a910-cd2e39363b13",
   "metadata": {},
   "outputs": [
    {
     "name": "stdout",
     "output_type": "stream",
     "text": [
      "<class 'pandas.core.frame.DataFrame'>\n",
      "RangeIndex: 49105 entries, 0 to 49104\n",
      "Data columns (total 22 columns):\n",
      " #   Column            Non-Null Count  Dtype \n",
      "---  ------            --------------  ----- \n",
      " 0   ID                49105 non-null  object\n",
      " 1   Name              49105 non-null  object\n",
      " 2   Date              49105 non-null  int64 \n",
      " 3   Time              49105 non-null  int64 \n",
      " 4   Event             49105 non-null  object\n",
      " 5   Status            49105 non-null  object\n",
      " 6   Latitude          49105 non-null  object\n",
      " 7   Longitude         49105 non-null  object\n",
      " 8   Maximum Wind      49105 non-null  int64 \n",
      " 9   Minimum Pressure  49105 non-null  int64 \n",
      " 10  Low Wind NE       49105 non-null  int64 \n",
      " 11  Low Wind SE       49105 non-null  int64 \n",
      " 12  Low Wind SW       49105 non-null  int64 \n",
      " 13  Low Wind NW       49105 non-null  int64 \n",
      " 14  Moderate Wind NE  49105 non-null  int64 \n",
      " 15  Moderate Wind SE  49105 non-null  int64 \n",
      " 16  Moderate Wind SW  49105 non-null  int64 \n",
      " 17  Moderate Wind NW  49105 non-null  int64 \n",
      " 18  High Wind NE      49105 non-null  int64 \n",
      " 19  High Wind SE      49105 non-null  int64 \n",
      " 20  High Wind SW      49105 non-null  int64 \n",
      " 21  High Wind NW      49105 non-null  int64 \n",
      "dtypes: int64(16), object(6)\n",
      "memory usage: 8.2+ MB\n",
      "None\n",
      "               Date          Time  Maximum Wind  Minimum Pressure  \\\n",
      "count  4.910500e+04  49105.000000  49105.000000      49105.000000   \n",
      "mean   1.949802e+07    910.125975     52.005091       -251.406496   \n",
      "std    4.461850e+05    671.043363     27.681902        964.313907   \n",
      "min    1.851062e+07      0.000000    -99.000000       -999.000000   \n",
      "25%    1.911110e+07    600.000000     35.000000       -999.000000   \n",
      "50%    1.956093e+07   1200.000000     45.000000       -999.000000   \n",
      "75%    1.989081e+07   1800.000000     70.000000        990.000000   \n",
      "max    2.015111e+07   2330.000000    165.000000       1024.000000   \n",
      "\n",
      "        Low Wind NE   Low Wind SE   Low Wind SW   Low Wind NW  \\\n",
      "count  49105.000000  49105.000000  49105.000000  49105.000000   \n",
      "mean    -868.671031   -869.315772   -872.676428   -871.409245   \n",
      "std      353.299666    351.548910    342.153768    345.628984   \n",
      "min     -999.000000   -999.000000   -999.000000   -999.000000   \n",
      "25%     -999.000000   -999.000000   -999.000000   -999.000000   \n",
      "50%     -999.000000   -999.000000   -999.000000   -999.000000   \n",
      "75%     -999.000000   -999.000000   -999.000000   -999.000000   \n",
      "max      710.000000    600.000000    640.000000    530.000000   \n",
      "\n",
      "       Moderate Wind NE  Moderate Wind SE  Moderate Wind SW  Moderate Wind NW  \\\n",
      "count      49105.000000      49105.000000      49105.000000      49105.000000   \n",
      "mean        -875.570940       -875.765319       -876.682028       -876.323205   \n",
      "std          333.651396        333.133376        330.526085        331.535176   \n",
      "min         -999.000000       -999.000000       -999.000000       -999.000000   \n",
      "25%         -999.000000       -999.000000       -999.000000       -999.000000   \n",
      "50%         -999.000000       -999.000000       -999.000000       -999.000000   \n",
      "75%         -999.000000       -999.000000       -999.000000       -999.000000   \n",
      "max          360.000000        300.000000        330.000000        360.000000   \n",
      "\n",
      "       High Wind NE  High Wind SE  High Wind SW  High Wind NW  \n",
      "count  49105.000000  49105.000000  49105.000000  49105.000000  \n",
      "mean    -877.564321   -877.655045   -877.923552   -877.786295  \n",
      "std      328.027275    327.774794    327.021430    327.408253  \n",
      "min     -999.000000   -999.000000   -999.000000   -999.000000  \n",
      "25%     -999.000000   -999.000000   -999.000000   -999.000000  \n",
      "50%     -999.000000   -999.000000   -999.000000   -999.000000  \n",
      "75%     -999.000000   -999.000000   -999.000000   -999.000000  \n",
      "max      180.000000    250.000000    150.000000    180.000000  \n",
      "ID                  0\n",
      "Name                0\n",
      "Date                0\n",
      "Time                0\n",
      "Event               0\n",
      "Status              0\n",
      "Latitude            0\n",
      "Longitude           0\n",
      "Maximum Wind        0\n",
      "Minimum Pressure    0\n",
      "Low Wind NE         0\n",
      "Low Wind SE         0\n",
      "Low Wind SW         0\n",
      "Low Wind NW         0\n",
      "Moderate Wind NE    0\n",
      "Moderate Wind SE    0\n",
      "Moderate Wind SW    0\n",
      "Moderate Wind NW    0\n",
      "High Wind NE        0\n",
      "High Wind SE        0\n",
      "High Wind SW        0\n",
      "High Wind NW        0\n",
      "dtype: int64\n"
     ]
    }
   ],
   "source": [
    "print(df.info())\n",
    "print(df.describe())\n",
    "print(df.isnull().sum())"
   ]
  },
  {
   "cell_type": "code",
   "execution_count": null,
   "id": "42a6d089-c3cd-45e3-93cb-73267de518e1",
   "metadata": {},
   "outputs": [],
   "source": []
  },
  {
   "cell_type": "code",
   "execution_count": null,
   "id": "c676e3f3-a37b-4153-8ff3-80ff1de45fdd",
   "metadata": {},
   "outputs": [],
   "source": []
  },
  {
   "cell_type": "code",
   "execution_count": null,
   "id": "05e9e2cc-3c11-4c39-a859-61f65afb2204",
   "metadata": {},
   "outputs": [],
   "source": []
  },
  {
   "cell_type": "code",
   "execution_count": null,
   "id": "6a6848d7-e136-4d6f-b281-95943055a445",
   "metadata": {},
   "outputs": [],
   "source": []
  },
  {
   "cell_type": "code",
   "execution_count": null,
   "id": "e1066c05-286e-4c21-8c85-ebcb3532241d",
   "metadata": {},
   "outputs": [],
   "source": []
  }
 ],
 "metadata": {
  "kernelspec": {
   "display_name": "Python 3 (ipykernel)",
   "language": "python",
   "name": "python3"
  },
  "language_info": {
   "codemirror_mode": {
    "name": "ipython",
    "version": 3
   },
   "file_extension": ".py",
   "mimetype": "text/x-python",
   "name": "python",
   "nbconvert_exporter": "python",
   "pygments_lexer": "ipython3",
   "version": "3.13.5"
  }
 },
 "nbformat": 4,
 "nbformat_minor": 5
}
